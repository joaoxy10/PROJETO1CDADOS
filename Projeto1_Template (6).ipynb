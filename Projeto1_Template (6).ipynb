{
 "cells": [
  {
   "cell_type": "markdown",
   "metadata": {},
   "source": [
    "# Projeto 1 - Ciência dos Dados"
   ]
  },
  {
   "cell_type": "markdown",
   "metadata": {},
   "source": [
    "Nome: João Vitor da Silva Menezes\n",
    "\n",
    "Nome: _____\n",
    "\n",
    "Nome: _____"
   ]
  },
  {
   "cell_type": "markdown",
   "metadata": {},
   "source": [
    "___\n",
    "### Atenção: <br> $\\quad$* Serão permitidos grupos de até 3 pessoas, mas com uma rubrica mais exigente. <br> $\\quad$* Veja RUBRICA na última página do arquivo PDF que traz o enunciado do Proejto 1."
   ]
  },
  {
   "cell_type": "markdown",
   "metadata": {},
   "source": [
    "___\n",
    "Carregando algumas bibliotecas:"
   ]
  },
  {
   "cell_type": "code",
   "execution_count": 32,
   "metadata": {},
   "outputs": [],
   "source": [
    "%matplotlib inline\n",
    "import pandas as pd\n",
    "import matplotlib.pyplot as plt\n",
    "import numpy as np\n",
    "import os"
   ]
  },
  {
   "cell_type": "code",
   "execution_count": 33,
   "metadata": {},
   "outputs": [
    {
     "name": "stdout",
     "output_type": "stream",
     "text": [
      "Esperamos trabalhar no diretório\n",
      "C:\\Users\\joaox\\Cdados\\projeto1\n"
     ]
    }
   ],
   "source": [
    "print('Esperamos trabalhar no diretório')\n",
    "print(os.getcwd())"
   ]
  },
  {
   "cell_type": "markdown",
   "metadata": {},
   "source": [
    "___\n",
    "\n",
    "### Carregando a base de dados com as mensagens dos seus arquivos. <br> Tire o `#` do início da linha de código condizente ao caso escolhido para o projeto 1."
   ]
  },
  {
   "cell_type": "code",
   "execution_count": 34,
   "metadata": {},
   "outputs": [
    {
     "name": "stdin",
     "output_type": "stream",
     "text": [
      "Digite o username digitado quando arquivo foi criado:  joao\n"
     ]
    }
   ],
   "source": [
    "nome = input(\"Digite o username digitado quando arquivo foi criado: \")"
   ]
  },
  {
   "cell_type": "code",
   "execution_count": 35,
   "metadata": {},
   "outputs": [],
   "source": [
    "# SE SEU PROJETO USA OS DADOS ATÉ TRIO\n",
    "train = pd.read_csv('dados_treino_ate_TRIO_'+nome+'.csv')\n",
    "test = pd.read_csv('dados_teste_ate_TRIO_'+nome+'.csv')"
   ]
  },
  {
   "cell_type": "code",
   "execution_count": 36,
   "metadata": {},
   "outputs": [],
   "source": [
    "# SE SEU PROJETO USA OS DADOS SÓ DUPLA\"\n",
    "#train = pd.read_csv('dados_treino_so_DUPLA_'+nome+'.csv')\n",
    "#test = pd.read_csv('dados_teste_so_DUPLA_'+nome+'.csv')"
   ]
  },
  {
   "cell_type": "code",
   "execution_count": 37,
   "metadata": {},
   "outputs": [
    {
     "data": {
      "text/html": [
       "<div>\n",
       "<style scoped>\n",
       "    .dataframe tbody tr th:only-of-type {\n",
       "        vertical-align: middle;\n",
       "    }\n",
       "\n",
       "    .dataframe tbody tr th {\n",
       "        vertical-align: top;\n",
       "    }\n",
       "\n",
       "    .dataframe thead th {\n",
       "        text-align: right;\n",
       "    }\n",
       "</style>\n",
       "<table border=\"1\" class=\"dataframe\">\n",
       "  <thead>\n",
       "    <tr style=\"text-align: right;\">\n",
       "      <th></th>\n",
       "      <th>Text</th>\n",
       "      <th>target</th>\n",
       "    </tr>\n",
       "  </thead>\n",
       "  <tbody>\n",
       "    <tr>\n",
       "      <th>0</th>\n",
       "      <td>This was shipped to me quickly and in good con...</td>\n",
       "      <td>2.0</td>\n",
       "    </tr>\n",
       "    <tr>\n",
       "      <th>1</th>\n",
       "      <td>I discovered these at my local Starbucks and l...</td>\n",
       "      <td>2.0</td>\n",
       "    </tr>\n",
       "    <tr>\n",
       "      <th>2</th>\n",
       "      <td>I never rececieved the second package, only on...</td>\n",
       "      <td>0.0</td>\n",
       "    </tr>\n",
       "    <tr>\n",
       "      <th>3</th>\n",
       "      <td>I love Paul Newman - so no offense to the man ...</td>\n",
       "      <td>0.0</td>\n",
       "    </tr>\n",
       "    <tr>\n",
       "      <th>4</th>\n",
       "      <td>couldn't stop laughing in the store, so just h...</td>\n",
       "      <td>0.0</td>\n",
       "    </tr>\n",
       "  </tbody>\n",
       "</table>\n",
       "</div>"
      ],
      "text/plain": [
       "                                                Text  target\n",
       "0  This was shipped to me quickly and in good con...     2.0\n",
       "1  I discovered these at my local Starbucks and l...     2.0\n",
       "2  I never rececieved the second package, only on...     0.0\n",
       "3  I love Paul Newman - so no offense to the man ...     0.0\n",
       "4  couldn't stop laughing in the store, so just h...     0.0"
      ]
     },
     "execution_count": 37,
     "metadata": {},
     "output_type": "execute_result"
    }
   ],
   "source": [
    "train.head()"
   ]
  },
  {
   "cell_type": "code",
   "execution_count": 38,
   "metadata": {},
   "outputs": [
    {
     "data": {
      "text/html": [
       "<div>\n",
       "<style scoped>\n",
       "    .dataframe tbody tr th:only-of-type {\n",
       "        vertical-align: middle;\n",
       "    }\n",
       "\n",
       "    .dataframe tbody tr th {\n",
       "        vertical-align: top;\n",
       "    }\n",
       "\n",
       "    .dataframe thead th {\n",
       "        text-align: right;\n",
       "    }\n",
       "</style>\n",
       "<table border=\"1\" class=\"dataframe\">\n",
       "  <thead>\n",
       "    <tr style=\"text-align: right;\">\n",
       "      <th></th>\n",
       "      <th>Text</th>\n",
       "      <th>target</th>\n",
       "    </tr>\n",
       "  </thead>\n",
       "  <tbody>\n",
       "    <tr>\n",
       "      <th>0</th>\n",
       "      <td>These look delicious and when you first chew, ...</td>\n",
       "      <td>0.0</td>\n",
       "    </tr>\n",
       "    <tr>\n",
       "      <th>1</th>\n",
       "      <td>Whenever I give my dogs something to chew on I...</td>\n",
       "      <td>1.0</td>\n",
       "    </tr>\n",
       "    <tr>\n",
       "      <th>2</th>\n",
       "      <td>This rum cake has little chocolate flaver and ...</td>\n",
       "      <td>0.0</td>\n",
       "    </tr>\n",
       "    <tr>\n",
       "      <th>3</th>\n",
       "      <td>My dog loved the original Purina One Adult Chi...</td>\n",
       "      <td>0.0</td>\n",
       "    </tr>\n",
       "    <tr>\n",
       "      <th>4</th>\n",
       "      <td>As like the others have already said, a very d...</td>\n",
       "      <td>1.0</td>\n",
       "    </tr>\n",
       "  </tbody>\n",
       "</table>\n",
       "</div>"
      ],
      "text/plain": [
       "                                                Text  target\n",
       "0  These look delicious and when you first chew, ...     0.0\n",
       "1  Whenever I give my dogs something to chew on I...     1.0\n",
       "2  This rum cake has little chocolate flaver and ...     0.0\n",
       "3  My dog loved the original Purina One Adult Chi...     0.0\n",
       "4  As like the others have already said, a very d...     1.0"
      ]
     },
     "execution_count": 38,
     "metadata": {},
     "output_type": "execute_result"
    }
   ],
   "source": [
    "test.head()"
   ]
  },
  {
   "cell_type": "code",
   "execution_count": 39,
   "metadata": {},
   "outputs": [
    {
     "data": {
      "text/plain": [
       "'Whenever I give my dogs something to chew on I hope it keeps them busy for a while and tire them out.  These Fun Bites are too big for my Chihuahua (it is suggested for dogs over six pounds), but for my medium sized mix breed, it would take her about a half an hour to finish them off.  I really cannot comment on the \"digestive support\" that the Fun Bites advertise but she does not seem any different as to the way then before she ate these.<br /><br />What is annoying about this product is the labeling as they have important data and warning on the bottom of the package making it very hard to read it without ripping or cutting it.  If it is important, how about putting the warning wear someone can actually read it?'"
      ]
     },
     "execution_count": 39,
     "metadata": {},
     "output_type": "execute_result"
    }
   ],
   "source": [
    "test.Text[1]"
   ]
  },
  {
   "cell_type": "markdown",
   "metadata": {},
   "source": [
    "___\n",
    "# Classificador Automático (Boot)\n"
   ]
  },
  {
   "cell_type": "markdown",
   "metadata": {},
   "source": [
    "Faça aqui uma descrição do seu assunto e o contexto referente aos rótulos cujas mensagens (ou reviews) deverão ser classificadas.\n",
    "\n",
    "ESCREVA AQUI..."
   ]
  },
  {
   "cell_type": "markdown",
   "metadata": {},
   "source": [
    "___\n",
    "## Montando SEU Classificador Naive-Bayes\n",
    "\n",
    "Considerando apenas as mensagens da planilha Treinamento, ensine  seu classificador."
   ]
  },
  {
   "cell_type": "code",
   "execution_count": 40,
   "metadata": {},
   "outputs": [],
   "source": [
    "import re \n",
    "\n",
    "def cleanup(text):\n",
    "    \"\"\"\n",
    "        Função de limpeza muito simples que troca alguns sinais básicos por espaços\n",
    "    \"\"\"\n",
    "    #import string\n",
    "    #marcador='<br />'\n",
    "    punctuation = '[´\"!-.:?;$'']' # Note que os sinais [] são delimitadores de um conjunto.\n",
    "    pattern = re.compile(punctuation)\n",
    "    text_subbed = re.sub(pattern, '', text)\n",
    "    return text_subbed\n",
    "    "
   ]
  },
  {
   "cell_type": "code",
   "execution_count": 41,
   "metadata": {},
   "outputs": [],
   "source": [
    "def arruma_lista(serie_lista):\n",
    "    serie2=[]\n",
    "    for frase in serie_lista:\n",
    "        frase_nova=cleanup(frase)\n",
    "        frase_nova=frase_nova.replace(\"<br />\",\" \")\n",
    "        frase_nova=frase_nova.replace(\"<br/>\",\" \")\n",
    "        frase_nova=frase_nova.lower()\n",
    "    #ler sobre str.replace(r'<br/s,regex=True)\n",
    "        serie2.append(frase_nova)\n",
    "    todas_palavras=[]\n",
    "    for frase in serie2: \n",
    "        palavras=frase.split()\n",
    "        for palavra in palavras:\n",
    "            todas_palavras.append(palavra)\n",
    "    serie_todas_palavras=pd.Series(todas_palavras)\n",
    "    return serie_todas_palavras"
   ]
  },
  {
   "cell_type": "code",
   "execution_count": 42,
   "metadata": {},
   "outputs": [
    {
     "data": {
      "text/plain": [
       "the        9677\n",
       "i          7473\n",
       "and        5958\n",
       "a          5759\n",
       "to         5093\n",
       "it         4505\n",
       "of         4105\n",
       "is         3498\n",
       "this       3191\n",
       "in         2693\n",
       "for        2601\n",
       "that       2273\n",
       "my         2113\n",
       "not        2046\n",
       "but        1989\n",
       "was        1737\n",
       "have       1672\n",
       "with       1635\n",
       "you        1610\n",
       "are        1492\n",
       "they       1456\n",
       "as         1408\n",
       "like       1355\n",
       "on         1265\n",
       "so         1195\n",
       "these      1127\n",
       "them       1079\n",
       "be         1029\n",
       "or          931\n",
       "taste       931\n",
       "good        919\n",
       "just        916\n",
       "at          914\n",
       "if          874\n",
       "one         857\n",
       "coffee      808\n",
       "product     795\n",
       "its         794\n",
       "all         776\n",
       "very        746\n",
       "would       728\n",
       "from        712\n",
       "flavor      698\n",
       "had         665\n",
       "can         649\n",
       "out         644\n",
       "when        643\n",
       "great       642\n",
       "will        635\n",
       "more        625\n",
       "Name: count, dtype: int64"
      ]
     },
     "execution_count": 42,
     "metadata": {},
     "output_type": "execute_result"
    }
   ],
   "source": [
    "serie=pd.Series(train['Text']).tolist()\n",
    "todas_palavras=arruma_lista(serie)\n",
    "#serie_nova=cleanup(serie)\n",
    "\n",
    "todas_palavras.value_counts().head(50)    \n",
    "# olhar palvras que são indiferentes no classificador, como preposições\n",
    "#stopwords"
   ]
  },
  {
   "cell_type": "code",
   "execution_count": 43,
   "metadata": {},
   "outputs": [
    {
     "data": {
      "text/plain": [
       "the        3649\n",
       "i          2894\n",
       "and        2000\n",
       "to         1846\n",
       "a          1779\n",
       "it         1577\n",
       "of         1523\n",
       "this       1273\n",
       "is         1104\n",
       "in          913\n",
       "not         911\n",
       "for         832\n",
       "that        812\n",
       "was         809\n",
       "but         729\n",
       "my          687\n",
       "have        585\n",
       "they        528\n",
       "like        518\n",
       "with        512\n",
       "you         504\n",
       "as          478\n",
       "are         459\n",
       "on          445\n",
       "be          418\n",
       "so          411\n",
       "these       389\n",
       "taste       378\n",
       "at          347\n",
       "just        344\n",
       "them        333\n",
       "if          333\n",
       "product     330\n",
       "from        319\n",
       "one         312\n",
       "would       297\n",
       "or          296\n",
       "all         292\n",
       "had         289\n",
       "very        271\n",
       "its         271\n",
       "out         270\n",
       "no          248\n",
       "me          244\n",
       "good        239\n",
       "coffee      232\n",
       "will        230\n",
       "were        226\n",
       "food        220\n",
       "flavor      214\n",
       "Name: count, dtype: int64"
      ]
     },
     "execution_count": 43,
     "metadata": {},
     "output_type": "execute_result"
    }
   ],
   "source": [
    "train_0=train.loc[train['target']==0.0,'Text'].tolist()\n",
    "\n",
    "todas_palavras_0=arruma_lista(train_0)\n",
    "todas_palavras_0.value_counts().head(50) "
   ]
  },
  {
   "cell_type": "code",
   "execution_count": 44,
   "metadata": {},
   "outputs": [
    {
     "data": {
      "text/plain": [
       "the         3539\n",
       "i           2556\n",
       "a           2387\n",
       "and         2078\n",
       "to          1810\n",
       "            ... \n",
       "somewhat      21\n",
       "reviews       21\n",
       "coffees       21\n",
       "adding        21\n",
       "grocery       21\n",
       "Name: count, Length: 500, dtype: int64"
      ]
     },
     "execution_count": 44,
     "metadata": {},
     "output_type": "execute_result"
    }
   ],
   "source": [
    "train_1=train.loc[train['target']==1.0,'Text'].tolist()\n",
    "\n",
    "todas_palavras_1=arruma_lista(train_1)\n",
    "todas_palavras_1.value_counts().head(500) "
   ]
  },
  {
   "cell_type": "code",
   "execution_count": 45,
   "metadata": {},
   "outputs": [
    {
     "data": {
      "text/plain": [
       "the        2489\n",
       "i          2023\n",
       "and        1880\n",
       "a          1593\n",
       "to         1437\n",
       "it         1200\n",
       "is         1102\n",
       "of         1057\n",
       "this        899\n",
       "in          831\n",
       "for         817\n",
       "my          722\n",
       "that        550\n",
       "with        534\n",
       "have        534\n",
       "you         510\n",
       "are         487\n",
       "but         409\n",
       "they        406\n",
       "on          401\n",
       "as          383\n",
       "not         382\n",
       "them        369\n",
       "these       357\n",
       "so          350\n",
       "was         334\n",
       "like        311\n",
       "or          299\n",
       "great       295\n",
       "at          285\n",
       "all         249\n",
       "good        249\n",
       "just        247\n",
       "love        243\n",
       "be          240\n",
       "one         238\n",
       "coffee      227\n",
       "we          221\n",
       "very        212\n",
       "can         204\n",
       "if          202\n",
       "flavor      198\n",
       "will        197\n",
       "its         197\n",
       "taste       196\n",
       "product     195\n",
       "when        195\n",
       "has         191\n",
       "food        190\n",
       "tea         179\n",
       "Name: count, dtype: int64"
      ]
     },
     "execution_count": 45,
     "metadata": {},
     "output_type": "execute_result"
    }
   ],
   "source": [
    "train_2=train.loc[train['target']==2.0,'Text'].tolist()\n",
    "\n",
    "todas_palavras_2=arruma_lista(train_2)\n",
    "todas_palavras_2.value_counts().head(50) "
   ]
  },
  {
   "cell_type": "code",
   "execution_count": 51,
   "metadata": {},
   "outputs": [],
   "source": [
    "freqr_tabela = todas_palavras.value_counts(True)  \n",
    "freqr_tabela \n",
    "EP=todas_palavras.value_counts().sum()"
   ]
  },
  {
   "cell_type": "code",
   "execution_count": 55,
   "metadata": {},
   "outputs": [
    {
     "data": {
      "text/plain": [
       "the          0.045823\n",
       "i            0.036342\n",
       "and          0.025115\n",
       "to           0.023181\n",
       "a            0.022340\n",
       "               ...   \n",
       "economic     0.000013\n",
       "aimed        0.000013\n",
       "obtuse       0.000013\n",
       "drinkers     0.000013\n",
       "purchaser    0.000013\n",
       "Name: proportion, Length: 7228, dtype: float64"
      ]
     },
     "execution_count": 55,
     "metadata": {},
     "output_type": "execute_result"
    }
   ],
   "source": [
    "freqr_tabela_0 = todas_palavras_0.value_counts(True)\n",
    "EP0=todas_palavras_0.value_counts().sum()\n",
    "freqr_tabela_0 \n"
   ]
  },
  {
   "cell_type": "code",
   "execution_count": 56,
   "metadata": {},
   "outputs": [
    {
     "data": {
      "text/plain": [
       "the               0.044264\n",
       "i                 0.031969\n",
       "a                 0.029855\n",
       "and               0.025990\n",
       "to                0.022638\n",
       "                    ...   \n",
       "nabiscos          0.000013\n",
       "newest            0.000013\n",
       "shortbread        0.000013\n",
       "crispiness        0.000013\n",
       "containerabout    0.000013\n",
       "Name: proportion, Length: 6998, dtype: float64"
      ]
     },
     "execution_count": 56,
     "metadata": {},
     "output_type": "execute_result"
    }
   ],
   "source": [
    "freqr_tabela_1 = todas_palavras_1.value_counts(True)\n",
    "EP1=todas_palavras_1.value_counts().sum()\n",
    "freqr_tabela_1 \n"
   ]
  },
  {
   "cell_type": "code",
   "execution_count": 57,
   "metadata": {},
   "outputs": [
    {
     "data": {
      "text/plain": [
       "the         0.039423\n",
       "i           0.032042\n",
       "and         0.029777\n",
       "a           0.025232\n",
       "to          0.022761\n",
       "              ...   \n",
       "wolfgang    0.000016\n",
       "pucks       0.000016\n",
       "evens       0.000016\n",
       "altura      0.000016\n",
       "drinkers    0.000016\n",
       "Name: proportion, Length: 6392, dtype: float64"
      ]
     },
     "execution_count": 57,
     "metadata": {},
     "output_type": "execute_result"
    }
   ],
   "source": [
    "freqr_tabela_2 = todas_palavras_2.value_counts(True)  \n",
    "EP2=todas_palavras_2.value_counts().sum()\n",
    "freqr_tabela_2"
   ]
  },
  {
   "cell_type": "code",
   "execution_count": 58,
   "metadata": {},
   "outputs": [
    {
     "name": "stdout",
     "output_type": "stream",
     "text": [
      "0.357545988029867 0.35898276318802447 0.28347124878210855\n"
     ]
    }
   ],
   "source": [
    "#def ClassNaiveBayes(frase)\n",
    "p_0=EP0/EP\n",
    "p_1=EP1/EP\n",
    "p_2=EP2/EP\n",
    "print(p_0,p_1,p_2)"
   ]
  },
  {
   "cell_type": "code",
   "execution_count": null,
   "metadata": {},
   "outputs": [],
   "source": []
  },
  {
   "cell_type": "markdown",
   "metadata": {},
   "source": [
    "# ___\n",
    "## Verificando a performance do Classificador\n",
    "\n",
    "Agora você deve testar o seu classificador com a base de Testes."
   ]
  },
  {
   "cell_type": "code",
   "execution_count": null,
   "metadata": {},
   "outputs": [],
   "source": []
  },
  {
   "cell_type": "code",
   "execution_count": null,
   "metadata": {},
   "outputs": [],
   "source": []
  },
  {
   "cell_type": "code",
   "execution_count": null,
   "metadata": {},
   "outputs": [],
   "source": []
  },
  {
   "cell_type": "markdown",
   "metadata": {},
   "source": [
    "___\n",
    "## Análise Qualitativa da Performance do Classificador"
   ]
  },
  {
   "cell_type": "code",
   "execution_count": null,
   "metadata": {},
   "outputs": [],
   "source": []
  },
  {
   "cell_type": "code",
   "execution_count": null,
   "metadata": {},
   "outputs": [],
   "source": []
  },
  {
   "cell_type": "code",
   "execution_count": null,
   "metadata": {},
   "outputs": [],
   "source": []
  },
  {
   "cell_type": "markdown",
   "metadata": {},
   "source": [
    "___\n",
    "## Qualidade do Classificador a partir de novas separações das mensagens entre Treinamento e Teste\n",
    "\n",
    "Caso for fazer esse item do Projeto"
   ]
  },
  {
   "cell_type": "code",
   "execution_count": null,
   "metadata": {},
   "outputs": [],
   "source": []
  },
  {
   "cell_type": "code",
   "execution_count": null,
   "metadata": {},
   "outputs": [],
   "source": []
  },
  {
   "cell_type": "code",
   "execution_count": null,
   "metadata": {},
   "outputs": [],
   "source": []
  },
  {
   "cell_type": "markdown",
   "metadata": {},
   "source": [
    "___\n",
    "## Aperfeiçoamento:\n",
    "\n",
    "Leia atentamente a rubrica colocada no enunciado do Projeto 1 (última página). <br>\n",
    "Trabalhos que conseguirem pelo menos conceito B vão evoluir em conceito dependendo da quantidade de itens avançados:\n",
    "\n",
    "* IMPLEMENTOU outras limpezas e transformações que não afetem a qualidade da informação contida nas mensagens, mas tendem a melhorar na classificação das mensagens. Ex: stemming, lemmatization, stopwords.\n",
    "* CONSIDEROU arquivo com três categorias na classificação das variáveis (OBRIGATÓRIO PARA QUARTETOS, sem contar como item avançado)\n",
    "* CONSTRUIU o cálculo das probabilidades corretamente utilizando bigramas E apresentou referência sobre o método utilizado.\n",
    "* EXPLICOU porquê não pode usar novas mensagens classificadas pelo próprio classificador como amostra de treinamento\n",
    "* PROPÔS diferentes cenários para Naïve Bayes fora do contexto do projeto (pelo menos dois cenários diferentes, exceto aqueles já apresentados em sala pelos professores: por exemplo, filtro de spam)\n",
    "* REFLETE criticamente sobre os resultados obtidos, identificando limitações do modelo e sugerindo possíveis melhorias ou diferentes abordagens com indicações concretas de como implementar (indicar como fazer e indicar material de pesquisa).\n",
    "* DOCUMENTOU bem o código, com explicações claras para cada etapa do processo, incluindo o raciocínio por trás das decisões de modelagem e das transformações de dados.\n"
   ]
  },
  {
   "cell_type": "markdown",
   "metadata": {},
   "source": [
    "___\n",
    "## Referências"
   ]
  },
  {
   "cell_type": "markdown",
   "metadata": {},
   "source": [
    "[Naive Bayes and Text Classification](https://arxiv.org/pdf/1410.5329.pdf)  **Mais completo**\n",
    "\n",
    "[Natural Language Processing (Part 17)-Laplacian Smoothing](https://medium.com/@Coursesteach/natural-language-processing-part-17-laplacian-smoothing-7d4be71d0ded) **Mais simples**"
   ]
  },
  {
   "cell_type": "code",
   "execution_count": null,
   "metadata": {},
   "outputs": [],
   "source": []
  }
 ],
 "metadata": {
  "kernelspec": {
   "display_name": "Python 3 (ipykernel)",
   "language": "python",
   "name": "python3"
  },
  "language_info": {
   "codemirror_mode": {
    "name": "ipython",
    "version": 3
   },
   "file_extension": ".py",
   "mimetype": "text/x-python",
   "name": "python",
   "nbconvert_exporter": "python",
   "pygments_lexer": "ipython3",
   "version": "3.12.7"
  }
 },
 "nbformat": 4,
 "nbformat_minor": 4
}
